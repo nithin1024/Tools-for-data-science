{
 "cells": [
  {
   "cell_type": "markdown",
   "id": "42bf9879-aeaa-45ad-9d61-648029d514c0",
   "metadata": {},
   "source": [
    "# Data Science Tools and Ecosystem"
   ]
  },
  {
   "cell_type": "markdown",
   "id": "caf6cff5-636b-46e1-9c15-7e6777fe3ad2",
   "metadata": {},
   "source": [
    "In this notebook, Data Science Tools and Ecosystem are summarized."
   ]
  },
  {
   "cell_type": "markdown",
   "id": "930c138f-d244-4743-81fb-5adf26526b66",
   "metadata": {},
   "source": [
    "**Objectives:**\n",
    "\n",
    "- List popular languages for Data Science.\n",
    "- Identify key libraries used in Data Science.\n",
    "- Understand development environment tools for Data Science.\n",
    "- Learn basic arithmetic expression evaluation in Python.\n",
    "- Explore examples of data manipulation and visualization.\n"
   ]
  },
  {
   "cell_type": "markdown",
   "id": "d249ff14-2585-4e41-9385-9c07e4700c80",
   "metadata": {
    "jp-MarkdownHeadingCollapsed": true
   },
   "source": [
    "Some of the popular languages that Data Scientists use are:\n",
    "1. Python\n",
    "2. R\n",
    "3. Scala\n",
    "4. SQL"
   ]
  },
  {
   "cell_type": "markdown",
   "id": "e0b323b5-3718-479c-9136-60d390744d69",
   "metadata": {},
   "source": [
    "Some of the commonly used libraries used by Data Scientists include:\n",
    "1. Numpy\n",
    "2. Scikit-learn\n",
    "3. Tensor Flow\n",
    "4. keras"
   ]
  },
  {
   "cell_type": "markdown",
   "id": "76e14f2e-9fec-4ccc-a46e-db082e221937",
   "metadata": {},
   "source": [
    "\n",
    "| **Data Science Tools**         |\n",
    "|---------------------------------|\n",
    "| Jupyter Notebook               |\n",
    "| RStudio                        |\n",
    "| Apache Zeppelin                |"
   ]
  },
  {
   "cell_type": "markdown",
   "id": "a39924bf-4774-49c3-b20d-747f2b0ddcc7",
   "metadata": {},
   "source": [
    "### Below are a few examples of evaluating arithmetic expressions in python"
   ]
  },
  {
   "cell_type": "markdown",
   "id": "2be7b37a-1bb5-4811-8461-d14ecae96f5c",
   "metadata": {},
   "source": [
    "This is a simple arithmetic expression to multiply then add integers"
   ]
  },
  {
   "cell_type": "code",
   "execution_count": 26,
   "id": "dceab2d8-1875-4547-a6e9-2222736fed86",
   "metadata": {},
   "outputs": [
    {
     "data": {
      "text/plain": [
       "17"
      ]
     },
     "execution_count": 26,
     "metadata": {},
     "output_type": "execute_result"
    }
   ],
   "source": [
    "(3*4)+5"
   ]
  },
  {
   "cell_type": "markdown",
   "id": "92230bbb-5494-4a48-8db4-43c74c7b9ea2",
   "metadata": {},
   "source": [
    "This will convert 200 minutes to hours by dividing by 60"
   ]
  },
  {
   "cell_type": "code",
   "execution_count": 3,
   "id": "66688679-33aa-4706-9b0e-d4f4e264b5ed",
   "metadata": {},
   "outputs": [
    {
     "data": {
      "text/plain": [
       "3.3333333333333335"
      ]
     },
     "execution_count": 3,
     "metadata": {},
     "output_type": "execute_result"
    }
   ],
   "source": [
    "200/60"
   ]
  },
  {
   "cell_type": "markdown",
   "id": "ffa5c425-5495-47d3-8507-44a9733413c5",
   "metadata": {},
   "source": [
    "## Author\n",
    "Bandaru NithinKumar"
   ]
  },
  {
   "cell_type": "code",
   "execution_count": null,
   "id": "c9c9d0e4-0f03-4554-8a0f-d9e16ed18fed",
   "metadata": {},
   "outputs": [],
   "source": []
  }
 ],
 "metadata": {
  "kernelspec": {
   "display_name": "Python 3 (ipykernel)",
   "language": "python",
   "name": "python3"
  },
  "language_info": {
   "codemirror_mode": {
    "name": "ipython",
    "version": 3
   },
   "file_extension": ".py",
   "mimetype": "text/x-python",
   "name": "python",
   "nbconvert_exporter": "python",
   "pygments_lexer": "ipython3",
   "version": "3.12.7"
  }
 },
 "nbformat": 4,
 "nbformat_minor": 5
}
